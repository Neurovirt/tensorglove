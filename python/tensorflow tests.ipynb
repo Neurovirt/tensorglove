{
 "cells": [
  {
   "cell_type": "code",
   "execution_count": 12,
   "metadata": {
    "collapsed": false
   },
   "outputs": [],
   "source": [
    "import argparse\n",
    "import tensorflow as tf\n",
    "import glovedata\n",
    "from glovedata import FEATURES\n",
    "#import tensorglove_osc_server"
   ]
  },
  {
   "cell_type": "code",
   "execution_count": 18,
   "metadata": {
    "collapsed": true
   },
   "outputs": [],
   "source": [
    "batch_size = 1000\n",
    "train_steps = 1"
   ]
  },
  {
   "cell_type": "code",
   "execution_count": 19,
   "metadata": {
    "collapsed": true
   },
   "outputs": [],
   "source": [
    "def serving_input_receiver_fn():\n",
    "    \"\"\"Build the serving inputs.\"\"\"\n",
    "    inputs = {}\n",
    "    for feat in FEATURES:\n",
    "        inputs[feat] = tf.placeholder(shape=[None], dtype='float32')\n",
    "\n",
    "    features = {\n",
    "        key: tf.expand_dims(tensor, -1)\n",
    "        for key, tensor in inputs.items()\n",
    "    }\n",
    "\n",
    "    return tf.estimator.export.ServingInputReceiver(features,\n",
    "                                                    inputs)"
   ]
  },
  {
   "cell_type": "code",
   "execution_count": 20,
   "metadata": {
    "collapsed": false
   },
   "outputs": [
    {
     "name": "stderr",
     "output_type": "stream",
     "text": [
      "/Users/Mike/Documents/Code/side-projects/tensorglove/python/glovedata.py:53: FutureWarning: convert_objects is deprecated.  Use the data-type specific converters pd.to_datetime, pd.to_timedelta and pd.to_numeric.\n",
      "  data.convert_objects()\n",
      "/Users/Mike/Documents/Code/side-projects/tensorglove/python/glovedata.py:58: FutureWarning: convert_objects is deprecated.  Use the data-type specific converters pd.to_datetime, pd.to_timedelta and pd.to_numeric.\n",
      "  train_y.convert_objects()\n",
      "/Users/Mike/Documents/Code/side-projects/tensorglove/python/glovedata.py:60: FutureWarning: convert_objects is deprecated.  Use the data-type specific converters pd.to_datetime, pd.to_timedelta and pd.to_numeric.\n",
      "  test_y.convert_objects()\n"
     ]
    }
   ],
   "source": [
    "# Fetch the data\n",
    "(train_x, train_y), (test_x, test_y) = glovedata.load_data()"
   ]
  },
  {
   "cell_type": "code",
   "execution_count": 21,
   "metadata": {
    "collapsed": false
   },
   "outputs": [
    {
     "name": "stdout",
     "output_type": "stream",
     "text": [
      "INFO:tensorflow:Using default config.\n",
      "INFO:tensorflow:Using config: {'_save_checkpoints_steps': None, '_log_step_count_steps': 100, '_cluster_spec': <tensorflow.python.training.server_lib.ClusterSpec object at 0x11a0274e0>, '_model_dir': 'model', '_is_chief': True, '_tf_random_seed': None, '_keep_checkpoint_max': 5, '_save_checkpoints_secs': 600, '_keep_checkpoint_every_n_hours': 10000, '_save_summary_steps': 100, '_num_ps_replicas': 0, '_global_id_in_cluster': 0, '_num_worker_replicas': 1, '_train_distribute': None, '_session_config': None, '_evaluation_master': '', '_master': '', '_service': None, '_task_type': 'worker', '_task_id': 0}\n"
     ]
    }
   ],
   "source": [
    "# Feature columns describe how to use the input.\n",
    "my_feature_columns = []\n",
    "for key in train_x.keys():\n",
    "    my_feature_columns.append(tf.feature_column.numeric_column(key=key))\n",
    "\n",
    "# Build 2 hidden layer DNN with 10, 10 units respectively.\n",
    "classifier = tf.estimator.DNNClassifier(\n",
    "    feature_columns=my_feature_columns,\n",
    "    # Two hidden layers of 10 nodes each.\n",
    "    hidden_units=[10, 10],\n",
    "    # The model must choose between 4 classes.\n",
    "    n_classes=4,\n",
    "    model_dir=\"model\")"
   ]
  },
  {
   "cell_type": "code",
   "execution_count": 22,
   "metadata": {
    "collapsed": false
   },
   "outputs": [
    {
     "name": "stdout",
     "output_type": "stream",
     "text": [
      "INFO:tensorflow:Calling model_fn.\n",
      "INFO:tensorflow:Done calling model_fn.\n",
      "INFO:tensorflow:Create CheckpointSaverHook.\n",
      "INFO:tensorflow:Graph was finalized.\n",
      "INFO:tensorflow:Restoring parameters from model/model.ckpt-1000\n",
      "INFO:tensorflow:Running local_init_op.\n",
      "INFO:tensorflow:Done running local_init_op.\n",
      "INFO:tensorflow:Saving checkpoints for 1001 into model/model.ckpt.\n",
      "INFO:tensorflow:step = 1001, loss = 65.0034\n",
      "INFO:tensorflow:Loss for final step: 65.0034.\n"
     ]
    },
    {
     "data": {
      "text/plain": [
       "<tensorflow.python.estimator.canned.dnn.DNNClassifier at 0x11a0270b8>"
      ]
     },
     "execution_count": 22,
     "metadata": {},
     "output_type": "execute_result"
    }
   ],
   "source": [
    "# Train the Model.\n",
    "classifier.train(\n",
    "    input_fn=lambda: glovedata.train_input_fn(train_x, train_y,\n",
    "                                              batch_size),\n",
    "    steps=train_steps)"
   ]
  },
  {
   "cell_type": "code",
   "execution_count": 24,
   "metadata": {
    "collapsed": false
   },
   "outputs": [
    {
     "name": "stdout",
     "output_type": "stream",
     "text": [
      "INFO:tensorflow:Calling model_fn.\n",
      "INFO:tensorflow:Done calling model_fn.\n",
      "INFO:tensorflow:Starting evaluation at 2018-05-31-14:40:06\n",
      "INFO:tensorflow:Graph was finalized.\n",
      "INFO:tensorflow:Restoring parameters from model/model.ckpt-1001\n",
      "INFO:tensorflow:Running local_init_op.\n",
      "INFO:tensorflow:Done running local_init_op.\n",
      "INFO:tensorflow:Finished evaluation at 2018-05-31-14:40:07\n",
      "INFO:tensorflow:Saving dict for global step 1001: accuracy = 0.9751107, average_loss = 0.083439, global_step = 1001, loss = 78.06315\n",
      "\n",
      "Test set accuracy: 0.975\n",
      "\n"
     ]
    }
   ],
   "source": [
    "# Evaluate the model.\n",
    "eval_result = classifier.evaluate(\n",
    "    input_fn=lambda: glovedata.eval_input_fn(test_x, test_y,\n",
    "                                             batch_size))\n",
    "\n",
    "\n",
    "print('\\nTest set accuracy: {accuracy:0.3f}\\n'.format(**eval_result))"
   ]
  },
  {
   "cell_type": "code",
   "execution_count": 25,
   "metadata": {
    "collapsed": false
   },
   "outputs": [
    {
     "ename": "NameError",
     "evalue": "name 'abatch_size' is not defined",
     "traceback": [
      "\u001b[0;31m---------------------------------------------------------------------------\u001b[0m",
      "\u001b[0;31mNameError\u001b[0m                                 Traceback (most recent call last)",
      "\u001b[0;32m<ipython-input-25-33dfb24c90d5>\u001b[0m in \u001b[0;36m<module>\u001b[0;34m()\u001b[0m\n\u001b[1;32m     24\u001b[0m \u001b[0mtemplate\u001b[0m \u001b[0;34m=\u001b[0m \u001b[0;34m'\\nPrediction is \"{}\" ({:.1f}%), expected \"{}\"'\u001b[0m\u001b[0;34m\u001b[0m\u001b[0m\n\u001b[1;32m     25\u001b[0m \u001b[0;34m\u001b[0m\u001b[0m\n\u001b[0;32m---> 26\u001b[0;31m \u001b[0;32mfor\u001b[0m \u001b[0mpred_dict\u001b[0m\u001b[0;34m,\u001b[0m \u001b[0mexpec\u001b[0m \u001b[0;32min\u001b[0m \u001b[0mzip\u001b[0m\u001b[0;34m(\u001b[0m\u001b[0mpredictions\u001b[0m\u001b[0;34m,\u001b[0m \u001b[0mexpected\u001b[0m\u001b[0;34m)\u001b[0m\u001b[0;34m:\u001b[0m\u001b[0;34m\u001b[0m\u001b[0m\n\u001b[0m\u001b[1;32m     27\u001b[0m     \u001b[0mclass_id\u001b[0m \u001b[0;34m=\u001b[0m \u001b[0mpred_dict\u001b[0m\u001b[0;34m[\u001b[0m\u001b[0;34m'class_ids'\u001b[0m\u001b[0;34m]\u001b[0m\u001b[0;34m[\u001b[0m\u001b[0;36m0\u001b[0m\u001b[0;34m]\u001b[0m\u001b[0;34m\u001b[0m\u001b[0m\n\u001b[1;32m     28\u001b[0m     \u001b[0mprobability\u001b[0m \u001b[0;34m=\u001b[0m \u001b[0mpred_dict\u001b[0m\u001b[0;34m[\u001b[0m\u001b[0;34m'probabilities'\u001b[0m\u001b[0;34m]\u001b[0m\u001b[0;34m[\u001b[0m\u001b[0mclass_id\u001b[0m\u001b[0;34m]\u001b[0m\u001b[0;34m\u001b[0m\u001b[0m\n",
      "\u001b[0;32m/Users/Mike/anaconda/lib/python3.5/site-packages/tensorflow/python/estimator/estimator.py\u001b[0m in \u001b[0;36mpredict\u001b[0;34m(self, input_fn, predict_keys, hooks, checkpoint_path, yield_single_examples)\u001b[0m\n\u001b[1;32m    492\u001b[0m       \u001b[0mself\u001b[0m\u001b[0;34m.\u001b[0m\u001b[0m_create_and_assert_global_step\u001b[0m\u001b[0;34m(\u001b[0m\u001b[0mg\u001b[0m\u001b[0;34m)\u001b[0m\u001b[0;34m\u001b[0m\u001b[0m\n\u001b[1;32m    493\u001b[0m       features, input_hooks = self._get_features_from_input_fn(\n\u001b[0;32m--> 494\u001b[0;31m           input_fn, model_fn_lib.ModeKeys.PREDICT)\n\u001b[0m\u001b[1;32m    495\u001b[0m       estimator_spec = self._call_model_fn(\n\u001b[1;32m    496\u001b[0m           features, None, model_fn_lib.ModeKeys.PREDICT, self.config)\n",
      "\u001b[0;32m/Users/Mike/anaconda/lib/python3.5/site-packages/tensorflow/python/estimator/estimator.py\u001b[0m in \u001b[0;36m_get_features_from_input_fn\u001b[0;34m(self, input_fn, mode)\u001b[0m\n\u001b[1;32m    668\u001b[0m   \u001b[0;32mdef\u001b[0m \u001b[0m_get_features_from_input_fn\u001b[0m\u001b[0;34m(\u001b[0m\u001b[0mself\u001b[0m\u001b[0;34m,\u001b[0m \u001b[0minput_fn\u001b[0m\u001b[0;34m,\u001b[0m \u001b[0mmode\u001b[0m\u001b[0;34m)\u001b[0m\u001b[0;34m:\u001b[0m\u001b[0;34m\u001b[0m\u001b[0m\n\u001b[1;32m    669\u001b[0m     \u001b[0;34m\"\"\"Extracts the `features` from return values of `input_fn`.\"\"\"\u001b[0m\u001b[0;34m\u001b[0m\u001b[0m\n\u001b[0;32m--> 670\u001b[0;31m     \u001b[0mresult\u001b[0m \u001b[0;34m=\u001b[0m \u001b[0mself\u001b[0m\u001b[0;34m.\u001b[0m\u001b[0m_call_input_fn\u001b[0m\u001b[0;34m(\u001b[0m\u001b[0minput_fn\u001b[0m\u001b[0;34m,\u001b[0m \u001b[0mmode\u001b[0m\u001b[0;34m)\u001b[0m\u001b[0;34m\u001b[0m\u001b[0m\n\u001b[0m\u001b[1;32m    671\u001b[0m     \u001b[0minput_hooks\u001b[0m \u001b[0;34m=\u001b[0m \u001b[0;34m[\u001b[0m\u001b[0;34m]\u001b[0m\u001b[0;34m\u001b[0m\u001b[0m\n\u001b[1;32m    672\u001b[0m     \u001b[0;32mif\u001b[0m \u001b[0misinstance\u001b[0m\u001b[0;34m(\u001b[0m\u001b[0mresult\u001b[0m\u001b[0;34m,\u001b[0m \u001b[0mdataset_ops\u001b[0m\u001b[0;34m.\u001b[0m\u001b[0mDataset\u001b[0m\u001b[0;34m)\u001b[0m\u001b[0;34m:\u001b[0m\u001b[0;34m\u001b[0m\u001b[0m\n",
      "\u001b[0;32m/Users/Mike/anaconda/lib/python3.5/site-packages/tensorflow/python/estimator/estimator.py\u001b[0m in \u001b[0;36m_call_input_fn\u001b[0;34m(self, input_fn, mode)\u001b[0m\n\u001b[1;32m    796\u001b[0m       \u001b[0mkwargs\u001b[0m\u001b[0;34m[\u001b[0m\u001b[0;34m'config'\u001b[0m\u001b[0;34m]\u001b[0m \u001b[0;34m=\u001b[0m \u001b[0mself\u001b[0m\u001b[0;34m.\u001b[0m\u001b[0mconfig\u001b[0m\u001b[0;34m\u001b[0m\u001b[0m\n\u001b[1;32m    797\u001b[0m     \u001b[0;32mwith\u001b[0m \u001b[0mops\u001b[0m\u001b[0;34m.\u001b[0m\u001b[0mdevice\u001b[0m\u001b[0;34m(\u001b[0m\u001b[0;34m'/cpu:0'\u001b[0m\u001b[0;34m)\u001b[0m\u001b[0;34m:\u001b[0m\u001b[0;34m\u001b[0m\u001b[0m\n\u001b[0;32m--> 798\u001b[0;31m       \u001b[0;32mreturn\u001b[0m \u001b[0minput_fn\u001b[0m\u001b[0;34m(\u001b[0m\u001b[0;34m**\u001b[0m\u001b[0mkwargs\u001b[0m\u001b[0;34m)\u001b[0m\u001b[0;34m\u001b[0m\u001b[0m\n\u001b[0m\u001b[1;32m    799\u001b[0m \u001b[0;34m\u001b[0m\u001b[0m\n\u001b[1;32m    800\u001b[0m   \u001b[0;32mdef\u001b[0m \u001b[0m_call_model_fn\u001b[0m\u001b[0;34m(\u001b[0m\u001b[0mself\u001b[0m\u001b[0;34m,\u001b[0m \u001b[0mfeatures\u001b[0m\u001b[0;34m,\u001b[0m \u001b[0mlabels\u001b[0m\u001b[0;34m,\u001b[0m \u001b[0mmode\u001b[0m\u001b[0;34m,\u001b[0m \u001b[0mconfig\u001b[0m\u001b[0;34m)\u001b[0m\u001b[0;34m:\u001b[0m\u001b[0;34m\u001b[0m\u001b[0m\n",
      "\u001b[0;32m<ipython-input-25-33dfb24c90d5>\u001b[0m in \u001b[0;36m<lambda>\u001b[0;34m()\u001b[0m\n\u001b[1;32m     20\u001b[0m     input_fn=lambda: glovedata.eval_input_fn(predict_x,\n\u001b[1;32m     21\u001b[0m                                              \u001b[0mlabels\u001b[0m\u001b[0;34m=\u001b[0m\u001b[0;32mNone\u001b[0m\u001b[0;34m,\u001b[0m\u001b[0;34m\u001b[0m\u001b[0m\n\u001b[0;32m---> 22\u001b[0;31m                                              batch_size=abatch_size))\n\u001b[0m\u001b[1;32m     23\u001b[0m \u001b[0;34m\u001b[0m\u001b[0m\n\u001b[1;32m     24\u001b[0m \u001b[0mtemplate\u001b[0m \u001b[0;34m=\u001b[0m \u001b[0;34m'\\nPrediction is \"{}\" ({:.1f}%), expected \"{}\"'\u001b[0m\u001b[0;34m\u001b[0m\u001b[0m\n",
      "\u001b[0;31mNameError\u001b[0m: name 'abatch_size' is not defined"
     ],
     "output_type": "error"
    }
   ],
   "source": [
    "# perform a sample prediction\n",
    "\n",
    "# Generate predictions from the model\n",
    "expected = ['Fist']\n",
    "feature_values = [0, 0, 0, 1, 0.2298394, 0.9228836, -0.1887825, -0.2445833, 0.03349165, -0.2397906, -0.1800468,\n",
    "                  0.9533949, -0.07355202, 0.2745002, -0.2481479, 0.9261007, -4.470348E-08, 0.2213377, 1.490116E-08,\n",
    "                  0.9751973, -2.235174E-08, -5.960464E-08, 4.470348E-08, 1, 0.09148686, -0.09309785, -0.6949129,\n",
    "                  0.7071485, 7.105427E-15, 7.45058E-08, -0.7191889, 0.6948146, 1.490116E-08, -1.490116E-08,\n",
    "                  -0.566272, 0.8242185, -2.235174E-08, -5.960464E-08, 4.470348E-08, 1, -3.725291E-08, 5.960464E-08,\n",
    "                  -0.7009093, 0.7132504, 1.490116E-08, 3.352762E-08, -0.772563, 0.6349381, -7.450572E-09,\n",
    "                  2.980232E-08, -0.6148145, 0.7886717, -2.235174E-08, -5.960464E-08, 4.470348E-08, 1, -0.06108833,\n",
    "                  0.06216392, -0.6982422, 0.7105362, -3.352762E-08, 1.490116E-08, -0.7539417, 0.6569413,\n",
    "                  5.960465E-08, 5.960463E-08, -0.5976215, 0.8017784, -2.235174E-08, -5.960464E-08, 4.470348E-08, 1,\n",
    "                  -0.1217117, 0.1238547, -0.6902609, 0.7024146, -5.029142E-08, 3.725291E-08, -0.819152, 0.5735765,\n",
    "                  5.215406E-08, 5.960463E-08, -0.6427875, 0.7660446]\n",
    "# the data is expected to be a list of feature values (as it is configured for batching)\n",
    "predict_x = dict(zip(FEATURES, [[x] for x in feature_values]))\n",
    "\n",
    "predictions = classifier.predict(\n",
    "    input_fn=lambda: glovedata.eval_input_fn(predict_x,\n",
    "                                             labels=None,\n",
    "                                             batch_size=batch_size))\n",
    "\n",
    "template = '\\nPrediction is \"{}\" ({:.1f}%), expected \"{}\"'\n",
    "\n",
    "for pred_dict, expec in zip(predictions, expected):\n",
    "    class_id = pred_dict['class_ids'][0]\n",
    "    probability = pred_dict['probabilities'][class_id]\n",
    "\n",
    "    print(template.format(glovedata.GESTURES[class_id],\n",
    "                          100 * probability, expec))"
   ]
  },
  {
   "cell_type": "code",
   "execution_count": 26,
   "metadata": {
    "collapsed": false
   },
   "outputs": [
    {
     "name": "stdout",
     "output_type": "stream",
     "text": [
      "INFO:tensorflow:Calling model_fn.\n",
      "INFO:tensorflow:Done calling model_fn.\n",
      "INFO:tensorflow:Signatures INCLUDED in export for Regress: None\n",
      "INFO:tensorflow:Signatures INCLUDED in export for Predict: ['predict']\n",
      "INFO:tensorflow:Signatures INCLUDED in export for Classify: None\n",
      "INFO:tensorflow:Signatures EXCLUDED from export because they cannot be be served via TensorFlow Serving APIs:\n",
      "INFO:tensorflow:'classification' : Classification input must be a single string Tensor; got {'Human_RightHandThumb3_Quat_X': <tf.Tensor 'Placeholder_16:0' shape=(?,) dtype=float32>, 'Human_RightInHandIndex3_Quat_X': <tf.Tensor 'Placeholder_32:0' shape=(?,) dtype=float32>, 'Human_RightInHandRing3_Quat_Z': <tf.Tensor 'Placeholder_66:0' shape=(?,) dtype=float32>, 'Human_RightHandThumb3_Quat_Z': <tf.Tensor 'Placeholder_18:0' shape=(?,) dtype=float32>, 'Human_RightHandThumb2_Quat_X': <tf.Tensor 'Placeholder_12:0' shape=(?,) dtype=float32>, 'Human_RightInHandIndex2_Quat_Z': <tf.Tensor 'Placeholder_30:0' shape=(?,) dtype=float32>, 'Human_RightInHandMiddle1_Quat_Y': <tf.Tensor 'Placeholder_41:0' shape=(?,) dtype=float32>, 'Human_RightInHandPinky1_Quat_Z': <tf.Tensor 'Placeholder_74:0' shape=(?,) dtype=float32>, 'Human_RightInHandRing2_Quat_Y': <tf.Tensor 'Placeholder_61:0' shape=(?,) dtype=float32>, 'Human_RightInHandRing3_Quat_W': <tf.Tensor 'Placeholder_67:0' shape=(?,) dtype=float32>, 'Human_RightInHandRing1_Quat_X': <tf.Tensor 'Placeholder_56:0' shape=(?,) dtype=float32>, 'Human_RightInHandIndex_Quat_X': <tf.Tensor 'Placeholder_20:0' shape=(?,) dtype=float32>, 'Human_RightInHandIndex_Quat_Z': <tf.Tensor 'Placeholder_22:0' shape=(?,) dtype=float32>, 'Human_RightInHandPinky2_Quat_W': <tf.Tensor 'Placeholder_79:0' shape=(?,) dtype=float32>, 'Human_RightHand_Quat_Y': <tf.Tensor 'Placeholder_5:0' shape=(?,) dtype=float32>, 'Human_RightInHandPinky2_Quat_Y': <tf.Tensor 'Placeholder_77:0' shape=(?,) dtype=float32>, 'Human_RightInHandRing2_Quat_W': <tf.Tensor 'Placeholder_63:0' shape=(?,) dtype=float32>, 'Human_RightInHandRing_Quat_Y': <tf.Tensor 'Placeholder_53:0' shape=(?,) dtype=float32>, 'Human_RightInHandIndex_Quat_Y': <tf.Tensor 'Placeholder_21:0' shape=(?,) dtype=float32>, 'Human_RightInHandPinky2_Quat_X': <tf.Tensor 'Placeholder_76:0' shape=(?,) dtype=float32>, 'Human_RightInHandRing1_Quat_W': <tf.Tensor 'Placeholder_59:0' shape=(?,) dtype=float32>, 'Human_RightForeArm_Quat_X': <tf.Tensor 'Placeholder:0' shape=(?,) dtype=float32>, 'Human_RightHand_Quat_W': <tf.Tensor 'Placeholder_7:0' shape=(?,) dtype=float32>, 'Human_RightInHandPinky_Quat_Y': <tf.Tensor 'Placeholder_69:0' shape=(?,) dtype=float32>, 'Human_RightInHandMiddle3_Quat_X': <tf.Tensor 'Placeholder_48:0' shape=(?,) dtype=float32>, 'Human_RightInHandIndex3_Quat_W': <tf.Tensor 'Placeholder_35:0' shape=(?,) dtype=float32>, 'Human_RightHandThumb1_Quat_W': <tf.Tensor 'Placeholder_11:0' shape=(?,) dtype=float32>, 'Human_RightInHandMiddle3_Quat_W': <tf.Tensor 'Placeholder_51:0' shape=(?,) dtype=float32>, 'Human_RightInHandIndex2_Quat_Y': <tf.Tensor 'Placeholder_29:0' shape=(?,) dtype=float32>, 'Human_RightInHandIndex1_Quat_Z': <tf.Tensor 'Placeholder_26:0' shape=(?,) dtype=float32>, 'Human_RightHandThumb3_Quat_W': <tf.Tensor 'Placeholder_19:0' shape=(?,) dtype=float32>, 'Human_RightInHandIndex1_Quat_W': <tf.Tensor 'Placeholder_27:0' shape=(?,) dtype=float32>, 'Human_RightInHandRing2_Quat_Z': <tf.Tensor 'Placeholder_62:0' shape=(?,) dtype=float32>, 'Human_RightInHandMiddle_Quat_W': <tf.Tensor 'Placeholder_39:0' shape=(?,) dtype=float32>, 'Human_RightInHandRing2_Quat_X': <tf.Tensor 'Placeholder_60:0' shape=(?,) dtype=float32>, 'Human_RightForeArm_Quat_W': <tf.Tensor 'Placeholder_3:0' shape=(?,) dtype=float32>, 'Human_RightInHandMiddle2_Quat_X': <tf.Tensor 'Placeholder_44:0' shape=(?,) dtype=float32>, 'Human_RightInHandRing3_Quat_Y': <tf.Tensor 'Placeholder_65:0' shape=(?,) dtype=float32>, 'Human_RightInHandPinky3_Quat_W': <tf.Tensor 'Placeholder_83:0' shape=(?,) dtype=float32>, 'Human_RightInHandMiddle1_Quat_Z': <tf.Tensor 'Placeholder_42:0' shape=(?,) dtype=float32>, 'Human_RightInHandPinky1_Quat_X': <tf.Tensor 'Placeholder_72:0' shape=(?,) dtype=float32>, 'Human_RightInHandPinky2_Quat_Z': <tf.Tensor 'Placeholder_78:0' shape=(?,) dtype=float32>, 'Human_RightInHandIndex2_Quat_X': <tf.Tensor 'Placeholder_28:0' shape=(?,) dtype=float32>, 'Human_RightHandThumb2_Quat_Y': <tf.Tensor 'Placeholder_13:0' shape=(?,) dtype=float32>, 'Human_RightHandThumb1_Quat_Y': <tf.Tensor 'Placeholder_9:0' shape=(?,) dtype=float32>, 'Human_RightInHandRing_Quat_Z': <tf.Tensor 'Placeholder_54:0' shape=(?,) dtype=float32>, 'Human_RightInHandRing3_Quat_X': <tf.Tensor 'Placeholder_64:0' shape=(?,) dtype=float32>, 'Human_RightInHandPinky_Quat_Z': <tf.Tensor 'Placeholder_70:0' shape=(?,) dtype=float32>, 'Human_RightInHandMiddle3_Quat_Y': <tf.Tensor 'Placeholder_49:0' shape=(?,) dtype=float32>, 'Human_RightInHandRing1_Quat_Y': <tf.Tensor 'Placeholder_57:0' shape=(?,) dtype=float32>, 'Human_RightHandThumb1_Quat_X': <tf.Tensor 'Placeholder_8:0' shape=(?,) dtype=float32>, 'Human_RightInHandMiddle_Quat_Y': <tf.Tensor 'Placeholder_37:0' shape=(?,) dtype=float32>, 'Human_RightInHandPinky_Quat_W': <tf.Tensor 'Placeholder_71:0' shape=(?,) dtype=float32>, 'Human_RightInHandMiddle_Quat_X': <tf.Tensor 'Placeholder_36:0' shape=(?,) dtype=float32>, 'Human_RightInHandPinky1_Quat_Y': <tf.Tensor 'Placeholder_73:0' shape=(?,) dtype=float32>, 'Human_RightInHandIndex_Quat_W': <tf.Tensor 'Placeholder_23:0' shape=(?,) dtype=float32>, 'Human_RightInHandMiddle1_Quat_X': <tf.Tensor 'Placeholder_40:0' shape=(?,) dtype=float32>, 'Human_RightInHandMiddle2_Quat_W': <tf.Tensor 'Placeholder_47:0' shape=(?,) dtype=float32>, 'Human_RightInHandIndex2_Quat_W': <tf.Tensor 'Placeholder_31:0' shape=(?,) dtype=float32>, 'Human_RightInHandRing_Quat_W': <tf.Tensor 'Placeholder_55:0' shape=(?,) dtype=float32>, 'Human_RightForeArm_Quat_Y': <tf.Tensor 'Placeholder_1:0' shape=(?,) dtype=float32>, 'Human_RightInHandPinky3_Quat_Z': <tf.Tensor 'Placeholder_82:0' shape=(?,) dtype=float32>, 'Human_RightHandThumb1_Quat_Z': <tf.Tensor 'Placeholder_10:0' shape=(?,) dtype=float32>, 'Human_RightHandThumb3_Quat_Y': <tf.Tensor 'Placeholder_17:0' shape=(?,) dtype=float32>, 'Human_RightHandThumb2_Quat_Z': <tf.Tensor 'Placeholder_14:0' shape=(?,) dtype=float32>, 'Human_RightInHandIndex3_Quat_Z': <tf.Tensor 'Placeholder_34:0' shape=(?,) dtype=float32>, 'Human_RightInHandMiddle2_Quat_Z': <tf.Tensor 'Placeholder_46:0' shape=(?,) dtype=float32>, 'Human_RightForeArm_Quat_Z': <tf.Tensor 'Placeholder_2:0' shape=(?,) dtype=float32>, 'Human_RightInHandIndex1_Quat_Y': <tf.Tensor 'Placeholder_25:0' shape=(?,) dtype=float32>, 'Human_RightHand_Quat_X': <tf.Tensor 'Placeholder_4:0' shape=(?,) dtype=float32>, 'Human_RightInHandIndex1_Quat_X': <tf.Tensor 'Placeholder_24:0' shape=(?,) dtype=float32>, 'Human_RightHandThumb2_Quat_W': <tf.Tensor 'Placeholder_15:0' shape=(?,) dtype=float32>, 'Human_RightInHandPinky_Quat_X': <tf.Tensor 'Placeholder_68:0' shape=(?,) dtype=float32>, 'Human_RightInHandMiddle1_Quat_W': <tf.Tensor 'Placeholder_43:0' shape=(?,) dtype=float32>, 'Human_RightInHandMiddle2_Quat_Y': <tf.Tensor 'Placeholder_45:0' shape=(?,) dtype=float32>, 'Human_RightInHandRing_Quat_X': <tf.Tensor 'Placeholder_52:0' shape=(?,) dtype=float32>, 'Human_RightInHandPinky3_Quat_Y': <tf.Tensor 'Placeholder_81:0' shape=(?,) dtype=float32>, 'Human_RightHand_Quat_Z': <tf.Tensor 'Placeholder_6:0' shape=(?,) dtype=float32>, 'Human_RightInHandMiddle_Quat_Z': <tf.Tensor 'Placeholder_38:0' shape=(?,) dtype=float32>, 'Human_RightInHandPinky1_Quat_W': <tf.Tensor 'Placeholder_75:0' shape=(?,) dtype=float32>, 'Human_RightInHandPinky3_Quat_X': <tf.Tensor 'Placeholder_80:0' shape=(?,) dtype=float32>, 'Human_RightInHandIndex3_Quat_Y': <tf.Tensor 'Placeholder_33:0' shape=(?,) dtype=float32>, 'Human_RightInHandMiddle3_Quat_Z': <tf.Tensor 'Placeholder_50:0' shape=(?,) dtype=float32>, 'Human_RightInHandRing1_Quat_Z': <tf.Tensor 'Placeholder_58:0' shape=(?,) dtype=float32>}\n",
      "INFO:tensorflow:'serving_default' : Classification input must be a single string Tensor; got {'Human_RightHandThumb3_Quat_X': <tf.Tensor 'Placeholder_16:0' shape=(?,) dtype=float32>, 'Human_RightInHandIndex3_Quat_X': <tf.Tensor 'Placeholder_32:0' shape=(?,) dtype=float32>, 'Human_RightInHandRing3_Quat_Z': <tf.Tensor 'Placeholder_66:0' shape=(?,) dtype=float32>, 'Human_RightHandThumb3_Quat_Z': <tf.Tensor 'Placeholder_18:0' shape=(?,) dtype=float32>, 'Human_RightHandThumb2_Quat_X': <tf.Tensor 'Placeholder_12:0' shape=(?,) dtype=float32>, 'Human_RightInHandIndex2_Quat_Z': <tf.Tensor 'Placeholder_30:0' shape=(?,) dtype=float32>, 'Human_RightInHandMiddle1_Quat_Y': <tf.Tensor 'Placeholder_41:0' shape=(?,) dtype=float32>, 'Human_RightInHandPinky1_Quat_Z': <tf.Tensor 'Placeholder_74:0' shape=(?,) dtype=float32>, 'Human_RightInHandRing2_Quat_Y': <tf.Tensor 'Placeholder_61:0' shape=(?,) dtype=float32>, 'Human_RightInHandRing3_Quat_W': <tf.Tensor 'Placeholder_67:0' shape=(?,) dtype=float32>, 'Human_RightInHandRing1_Quat_X': <tf.Tensor 'Placeholder_56:0' shape=(?,) dtype=float32>, 'Human_RightInHandIndex_Quat_X': <tf.Tensor 'Placeholder_20:0' shape=(?,) dtype=float32>, 'Human_RightInHandIndex_Quat_Z': <tf.Tensor 'Placeholder_22:0' shape=(?,) dtype=float32>, 'Human_RightInHandPinky2_Quat_W': <tf.Tensor 'Placeholder_79:0' shape=(?,) dtype=float32>, 'Human_RightHand_Quat_Y': <tf.Tensor 'Placeholder_5:0' shape=(?,) dtype=float32>, 'Human_RightInHandPinky2_Quat_Y': <tf.Tensor 'Placeholder_77:0' shape=(?,) dtype=float32>, 'Human_RightInHandRing2_Quat_W': <tf.Tensor 'Placeholder_63:0' shape=(?,) dtype=float32>, 'Human_RightInHandRing_Quat_Y': <tf.Tensor 'Placeholder_53:0' shape=(?,) dtype=float32>, 'Human_RightInHandIndex_Quat_Y': <tf.Tensor 'Placeholder_21:0' shape=(?,) dtype=float32>, 'Human_RightInHandPinky2_Quat_X': <tf.Tensor 'Placeholder_76:0' shape=(?,) dtype=float32>, 'Human_RightInHandRing1_Quat_W': <tf.Tensor 'Placeholder_59:0' shape=(?,) dtype=float32>, 'Human_RightForeArm_Quat_X': <tf.Tensor 'Placeholder:0' shape=(?,) dtype=float32>, 'Human_RightHand_Quat_W': <tf.Tensor 'Placeholder_7:0' shape=(?,) dtype=float32>, 'Human_RightInHandPinky_Quat_Y': <tf.Tensor 'Placeholder_69:0' shape=(?,) dtype=float32>, 'Human_RightInHandMiddle3_Quat_X': <tf.Tensor 'Placeholder_48:0' shape=(?,) dtype=float32>, 'Human_RightInHandIndex3_Quat_W': <tf.Tensor 'Placeholder_35:0' shape=(?,) dtype=float32>, 'Human_RightHandThumb1_Quat_W': <tf.Tensor 'Placeholder_11:0' shape=(?,) dtype=float32>, 'Human_RightInHandMiddle3_Quat_W': <tf.Tensor 'Placeholder_51:0' shape=(?,) dtype=float32>, 'Human_RightInHandIndex2_Quat_Y': <tf.Tensor 'Placeholder_29:0' shape=(?,) dtype=float32>, 'Human_RightInHandIndex1_Quat_Z': <tf.Tensor 'Placeholder_26:0' shape=(?,) dtype=float32>, 'Human_RightHandThumb3_Quat_W': <tf.Tensor 'Placeholder_19:0' shape=(?,) dtype=float32>, 'Human_RightInHandIndex1_Quat_W': <tf.Tensor 'Placeholder_27:0' shape=(?,) dtype=float32>, 'Human_RightInHandRing2_Quat_Z': <tf.Tensor 'Placeholder_62:0' shape=(?,) dtype=float32>, 'Human_RightInHandMiddle_Quat_W': <tf.Tensor 'Placeholder_39:0' shape=(?,) dtype=float32>, 'Human_RightInHandRing2_Quat_X': <tf.Tensor 'Placeholder_60:0' shape=(?,) dtype=float32>, 'Human_RightForeArm_Quat_W': <tf.Tensor 'Placeholder_3:0' shape=(?,) dtype=float32>, 'Human_RightInHandMiddle2_Quat_X': <tf.Tensor 'Placeholder_44:0' shape=(?,) dtype=float32>, 'Human_RightInHandRing3_Quat_Y': <tf.Tensor 'Placeholder_65:0' shape=(?,) dtype=float32>, 'Human_RightInHandPinky3_Quat_W': <tf.Tensor 'Placeholder_83:0' shape=(?,) dtype=float32>, 'Human_RightInHandMiddle1_Quat_Z': <tf.Tensor 'Placeholder_42:0' shape=(?,) dtype=float32>, 'Human_RightInHandPinky1_Quat_X': <tf.Tensor 'Placeholder_72:0' shape=(?,) dtype=float32>, 'Human_RightInHandPinky2_Quat_Z': <tf.Tensor 'Placeholder_78:0' shape=(?,) dtype=float32>, 'Human_RightInHandIndex2_Quat_X': <tf.Tensor 'Placeholder_28:0' shape=(?,) dtype=float32>, 'Human_RightHandThumb2_Quat_Y': <tf.Tensor 'Placeholder_13:0' shape=(?,) dtype=float32>, 'Human_RightHandThumb1_Quat_Y': <tf.Tensor 'Placeholder_9:0' shape=(?,) dtype=float32>, 'Human_RightInHandRing_Quat_Z': <tf.Tensor 'Placeholder_54:0' shape=(?,) dtype=float32>, 'Human_RightInHandRing3_Quat_X': <tf.Tensor 'Placeholder_64:0' shape=(?,) dtype=float32>, 'Human_RightInHandPinky_Quat_Z': <tf.Tensor 'Placeholder_70:0' shape=(?,) dtype=float32>, 'Human_RightInHandMiddle3_Quat_Y': <tf.Tensor 'Placeholder_49:0' shape=(?,) dtype=float32>, 'Human_RightInHandRing1_Quat_Y': <tf.Tensor 'Placeholder_57:0' shape=(?,) dtype=float32>, 'Human_RightHandThumb1_Quat_X': <tf.Tensor 'Placeholder_8:0' shape=(?,) dtype=float32>, 'Human_RightInHandMiddle_Quat_Y': <tf.Tensor 'Placeholder_37:0' shape=(?,) dtype=float32>, 'Human_RightInHandPinky_Quat_W': <tf.Tensor 'Placeholder_71:0' shape=(?,) dtype=float32>, 'Human_RightInHandMiddle_Quat_X': <tf.Tensor 'Placeholder_36:0' shape=(?,) dtype=float32>, 'Human_RightInHandPinky1_Quat_Y': <tf.Tensor 'Placeholder_73:0' shape=(?,) dtype=float32>, 'Human_RightInHandIndex_Quat_W': <tf.Tensor 'Placeholder_23:0' shape=(?,) dtype=float32>, 'Human_RightInHandMiddle1_Quat_X': <tf.Tensor 'Placeholder_40:0' shape=(?,) dtype=float32>, 'Human_RightInHandMiddle2_Quat_W': <tf.Tensor 'Placeholder_47:0' shape=(?,) dtype=float32>, 'Human_RightInHandIndex2_Quat_W': <tf.Tensor 'Placeholder_31:0' shape=(?,) dtype=float32>, 'Human_RightInHandRing_Quat_W': <tf.Tensor 'Placeholder_55:0' shape=(?,) dtype=float32>, 'Human_RightForeArm_Quat_Y': <tf.Tensor 'Placeholder_1:0' shape=(?,) dtype=float32>, 'Human_RightInHandPinky3_Quat_Z': <tf.Tensor 'Placeholder_82:0' shape=(?,) dtype=float32>, 'Human_RightHandThumb1_Quat_Z': <tf.Tensor 'Placeholder_10:0' shape=(?,) dtype=float32>, 'Human_RightHandThumb3_Quat_Y': <tf.Tensor 'Placeholder_17:0' shape=(?,) dtype=float32>, 'Human_RightHandThumb2_Quat_Z': <tf.Tensor 'Placeholder_14:0' shape=(?,) dtype=float32>, 'Human_RightInHandIndex3_Quat_Z': <tf.Tensor 'Placeholder_34:0' shape=(?,) dtype=float32>, 'Human_RightInHandMiddle2_Quat_Z': <tf.Tensor 'Placeholder_46:0' shape=(?,) dtype=float32>, 'Human_RightForeArm_Quat_Z': <tf.Tensor 'Placeholder_2:0' shape=(?,) dtype=float32>, 'Human_RightInHandIndex1_Quat_Y': <tf.Tensor 'Placeholder_25:0' shape=(?,) dtype=float32>, 'Human_RightHand_Quat_X': <tf.Tensor 'Placeholder_4:0' shape=(?,) dtype=float32>, 'Human_RightInHandIndex1_Quat_X': <tf.Tensor 'Placeholder_24:0' shape=(?,) dtype=float32>, 'Human_RightHandThumb2_Quat_W': <tf.Tensor 'Placeholder_15:0' shape=(?,) dtype=float32>, 'Human_RightInHandPinky_Quat_X': <tf.Tensor 'Placeholder_68:0' shape=(?,) dtype=float32>, 'Human_RightInHandMiddle1_Quat_W': <tf.Tensor 'Placeholder_43:0' shape=(?,) dtype=float32>, 'Human_RightInHandMiddle2_Quat_Y': <tf.Tensor 'Placeholder_45:0' shape=(?,) dtype=float32>, 'Human_RightInHandRing_Quat_X': <tf.Tensor 'Placeholder_52:0' shape=(?,) dtype=float32>, 'Human_RightInHandPinky3_Quat_Y': <tf.Tensor 'Placeholder_81:0' shape=(?,) dtype=float32>, 'Human_RightHand_Quat_Z': <tf.Tensor 'Placeholder_6:0' shape=(?,) dtype=float32>, 'Human_RightInHandMiddle_Quat_Z': <tf.Tensor 'Placeholder_38:0' shape=(?,) dtype=float32>, 'Human_RightInHandPinky1_Quat_W': <tf.Tensor 'Placeholder_75:0' shape=(?,) dtype=float32>, 'Human_RightInHandPinky3_Quat_X': <tf.Tensor 'Placeholder_80:0' shape=(?,) dtype=float32>, 'Human_RightInHandIndex3_Quat_Y': <tf.Tensor 'Placeholder_33:0' shape=(?,) dtype=float32>, 'Human_RightInHandMiddle3_Quat_Z': <tf.Tensor 'Placeholder_50:0' shape=(?,) dtype=float32>, 'Human_RightInHandRing1_Quat_Z': <tf.Tensor 'Placeholder_58:0' shape=(?,) dtype=float32>}\n",
      "WARNING:tensorflow:Export includes no default signature!\n",
      "INFO:tensorflow:Restoring parameters from model/model.ckpt-1001\n",
      "INFO:tensorflow:Assets added to graph.\n",
      "INFO:tensorflow:No assets to write.\n",
      "INFO:tensorflow:SavedModel written to: b\"model_export/temp-b'1527777617'/saved_model.pb\"\n",
      "Exported to: b'model_export/1527777617'\n"
     ]
    }
   ],
   "source": [
    "export_dir = classifier.export_savedmodel(\n",
    "    export_dir_base=\"model_export\",\n",
    "    serving_input_receiver_fn=serving_input_receiver_fn)\n",
    "print('Exported to:', export_dir)"
   ]
  },
  {
   "cell_type": "code",
   "execution_count": null,
   "metadata": {
    "collapsed": true
   },
   "outputs": [],
   "source": [
    ""
   ]
  },
  {
   "cell_type": "code",
   "execution_count": null,
   "metadata": {
    "collapsed": true
   },
   "outputs": [],
   "source": [
    ""
   ]
  }
 ],
 "metadata": {
  "anaconda-cloud": {},
  "kernelspec": {
   "display_name": "Python [conda root]",
   "language": "python",
   "name": "conda-root-py"
  },
  "language_info": {
   "codemirror_mode": {
    "name": "ipython",
    "version": 3.0
   },
   "file_extension": ".py",
   "mimetype": "text/x-python",
   "name": "python",
   "nbconvert_exporter": "python",
   "pygments_lexer": "ipython3",
   "version": "3.5.5"
  }
 },
 "nbformat": 4,
 "nbformat_minor": 0
}