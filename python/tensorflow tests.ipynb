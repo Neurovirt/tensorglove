{
 "cells": [
  {
   "cell_type": "code",
   "execution_count": 1,
   "metadata": {
    "collapsed": false
   },
   "outputs": [
    {
     "name": "stderr",
     "output_type": "stream",
     "text": [
      "/Users/Mike/anaconda/lib/python3.5/importlib/_bootstrap.py:222: RuntimeWarning: compiletime version 3.6 of module 'tensorflow.python.framework.fast_tensor_util' does not match runtime version 3.5\n",
      "  return f(*args, **kwds)\n",
      "/Users/Mike/anaconda/lib/python3.5/site-packages/h5py/__init__.py:34: FutureWarning: Conversion of the second argument of issubdtype from `float` to `np.floating` is deprecated. In future, it will be treated as `np.float64 == np.dtype(float).type`.\n",
      "  from ._conv import register_converters as _register_converters\n"
     ]
    }
   ],
   "source": [
    "import argparse\n",
    "import tensorflow as tf\n",
    "import glovedata\n",
    "from glovedata import FEATURES\n",
    "#import tensorglove_osc_server"
   ]
  },
  {
   "cell_type": "code",
   "execution_count": 2,
   "metadata": {
    "collapsed": true
   },
   "outputs": [],
   "source": [
    "batch_size = 1000\n",
    "train_steps = 1000"
   ]
  },
  {
   "cell_type": "code",
   "execution_count": 3,
   "metadata": {
    "collapsed": true
   },
   "outputs": [],
   "source": [
    "def serving_input_receiver_fn():\n",
    "    \"\"\"Build the serving inputs.\"\"\"\n",
    "    inputs = {}\n",
    "    for feat in FEATURES:\n",
    "        inputs[feat] = tf.placeholder(shape=[None], dtype='float32')\n",
    "\n",
    "    features = {\n",
    "        key: tf.expand_dims(tensor, -1)\n",
    "        for key, tensor in inputs.items()\n",
    "    }\n",
    "\n",
    "    return tf.estimator.export.ServingInputReceiver(features,\n",
    "                                                    inputs)"
   ]
  },
  {
   "cell_type": "code",
   "execution_count": 4,
   "metadata": {
    "collapsed": false
   },
   "outputs": [
    {
     "name": "stderr",
     "output_type": "stream",
     "text": [
      "/Users/Mike/Documents/Code/side-projects/tensorglove/python/glovedata.py:53: FutureWarning: convert_objects is deprecated.  Use the data-type specific converters pd.to_datetime, pd.to_timedelta and pd.to_numeric.\n",
      "  data.convert_objects()\n",
      "/Users/Mike/Documents/Code/side-projects/tensorglove/python/glovedata.py:58: FutureWarning: convert_objects is deprecated.  Use the data-type specific converters pd.to_datetime, pd.to_timedelta and pd.to_numeric.\n",
      "  train_y.convert_objects()\n",
      "/Users/Mike/Documents/Code/side-projects/tensorglove/python/glovedata.py:60: FutureWarning: convert_objects is deprecated.  Use the data-type specific converters pd.to_datetime, pd.to_timedelta and pd.to_numeric.\n",
      "  test_y.convert_objects()\n"
     ]
    }
   ],
   "source": [
    "# Fetch the data\n",
    "(train_x, train_y), (test_x, test_y) = glovedata.load_data()"
   ]
  },
  {
   "cell_type": "code",
   "execution_count": 5,
   "metadata": {
    "collapsed": false
   },
   "outputs": [
    {
     "name": "stdout",
     "output_type": "stream",
     "text": [
      "INFO:tensorflow:Using default config.\n",
      "INFO:tensorflow:Using config: {'_save_checkpoints_steps': None, '_log_step_count_steps': 100, '_cluster_spec': <tensorflow.python.training.server_lib.ClusterSpec object at 0x102ec7c88>, '_model_dir': 'model', '_is_chief': True, '_tf_random_seed': None, '_keep_checkpoint_max': 5, '_save_checkpoints_secs': 600, '_keep_checkpoint_every_n_hours': 10000, '_save_summary_steps': 100, '_num_ps_replicas': 0, '_global_id_in_cluster': 0, '_num_worker_replicas': 1, '_train_distribute': None, '_session_config': None, '_evaluation_master': '', '_master': '', '_service': None, '_task_type': 'worker', '_task_id': 0}\n"
     ]
    }
   ],
   "source": [
    "# Feature columns describe how to use the input.\n",
    "my_feature_columns = []\n",
    "for key in train_x.keys():\n",
    "    my_feature_columns.append(tf.feature_column.numeric_column(key=key))\n",
    "\n",
    "# Build 2 hidden layer DNN with 10, 10 units respectively.\n",
    "classifier = tf.estimator.DNNClassifier(\n",
    "    feature_columns=my_feature_columns,\n",
    "    # Two hidden layers of 10 nodes each.\n",
    "    hidden_units=[10, 10],\n",
    "    # The model must choose between 4 classes.\n",
    "    n_classes=4,\n",
    "    model_dir=\"model\")"
   ]
  },
  {
   "cell_type": "code",
   "execution_count": null,
   "metadata": {
    "collapsed": false
   },
   "outputs": [
    {
     "name": "stdout",
     "output_type": "stream",
     "text": [
      "INFO:tensorflow:Calling model_fn.\n",
      "INFO:tensorflow:Done calling model_fn.\n",
      "INFO:tensorflow:Create CheckpointSaverHook.\n",
      "INFO:tensorflow:Graph was finalized.\n",
      "INFO:tensorflow:Running local_init_op.\n",
      "INFO:tensorflow:Done running local_init_op.\n",
      "INFO:tensorflow:Saving checkpoints for 1 into model/model.ckpt.\n",
      "INFO:tensorflow:step = 1, loss = 1467.6824\n",
      "INFO:tensorflow:global_step/sec: 11.2885\n",
      "INFO:tensorflow:step = 101, loss = 391.88068 (8.859 sec)\n",
      "INFO:tensorflow:global_step/sec: 11.9132\n",
      "INFO:tensorflow:step = 201, loss = 202.16824 (8.394 sec)\n",
      "INFO:tensorflow:global_step/sec: 11.2657\n",
      "INFO:tensorflow:step = 301, loss = 140.69455 (8.877 sec)\n",
      "INFO:tensorflow:global_step/sec: 12.2037\n",
      "INFO:tensorflow:step = 401, loss = 106.72014 (8.194 sec)\n",
      "INFO:tensorflow:global_step/sec: 12.6288\n",
      "INFO:tensorflow:step = 501, loss = 106.3407 (7.918 sec)\n",
      "INFO:tensorflow:global_step/sec: 12.1446\n",
      "INFO:tensorflow:step = 601, loss = 73.63194 (8.234 sec)\n",
      "INFO:tensorflow:global_step/sec: 13.0061\n",
      "INFO:tensorflow:step = 701, loss = 77.821396 (7.688 sec)\n",
      "INFO:tensorflow:global_step/sec: 12.8344\n",
      "INFO:tensorflow:step = 801, loss = 97.38582 (7.791 sec)\n",
      "INFO:tensorflow:global_step/sec: 13.2464\n",
      "INFO:tensorflow:step = 901, loss = 86.72253 (7.549 sec)\n"
     ]
    }
   ],
   "source": [
    "# Train the Model.\n",
    "classifier.train(\n",
    "    input_fn=lambda: glovedata.train_input_fn(train_x, train_y,\n",
    "                                              batch_size),\n",
    "    steps=train_steps)"
   ]
  },
  {
   "cell_type": "code",
   "execution_count": null,
   "metadata": {
    "collapsed": true
   },
   "outputs": [],
   "source": [
    "# Evaluate the model.\n",
    "eval_result = classifier.evaluate(\n",
    "    input_fn=lambda: glovedata.eval_input_fn(test_x, test_y,\n",
    "                                             args.batch_size))\n",
    "\n",
    "\n",
    "print('\\nTest set accuracy: {accuracy:0.3f}\\n'.format(**eval_result))"
   ]
  },
  {
   "cell_type": "code",
   "execution_count": null,
   "metadata": {
    "collapsed": true
   },
   "outputs": [],
   "source": [
    "# perform a sample prediction\n",
    "\n",
    "# Generate predictions from the model\n",
    "expected = ['Fist']\n",
    "feature_values = [0, 0, 0, 1, 0.2298394, 0.9228836, -0.1887825, -0.2445833, 0.03349165, -0.2397906, -0.1800468,\n",
    "                  0.9533949, -0.07355202, 0.2745002, -0.2481479, 0.9261007, -4.470348E-08, 0.2213377, 1.490116E-08,\n",
    "                  0.9751973, -2.235174E-08, -5.960464E-08, 4.470348E-08, 1, 0.09148686, -0.09309785, -0.6949129,\n",
    "                  0.7071485, 7.105427E-15, 7.45058E-08, -0.7191889, 0.6948146, 1.490116E-08, -1.490116E-08,\n",
    "                  -0.566272, 0.8242185, -2.235174E-08, -5.960464E-08, 4.470348E-08, 1, -3.725291E-08, 5.960464E-08,\n",
    "                  -0.7009093, 0.7132504, 1.490116E-08, 3.352762E-08, -0.772563, 0.6349381, -7.450572E-09,\n",
    "                  2.980232E-08, -0.6148145, 0.7886717, -2.235174E-08, -5.960464E-08, 4.470348E-08, 1, -0.06108833,\n",
    "                  0.06216392, -0.6982422, 0.7105362, -3.352762E-08, 1.490116E-08, -0.7539417, 0.6569413,\n",
    "                  5.960465E-08, 5.960463E-08, -0.5976215, 0.8017784, -2.235174E-08, -5.960464E-08, 4.470348E-08, 1,\n",
    "                  -0.1217117, 0.1238547, -0.6902609, 0.7024146, -5.029142E-08, 3.725291E-08, -0.819152, 0.5735765,\n",
    "                  5.215406E-08, 5.960463E-08, -0.6427875, 0.7660446]\n",
    "# the data is expected to be a list of feature values (as it is configured for batching)\n",
    "predict_x = dict(zip(FEATURES, [[x] for x in feature_values]))\n",
    "\n",
    "predictions = classifier.predict(\n",
    "    input_fn=lambda: glovedata.eval_input_fn(predict_x,\n",
    "                                             labels=None,\n",
    "                                             batch_size=args.batch_size))\n",
    "\n",
    "template = '\\nPrediction is \"{}\" ({:.1f}%), expected \"{}\"'\n",
    "\n",
    "for pred_dict, expec in zip(predictions, expected):\n",
    "    class_id = pred_dict['class_ids'][0]\n",
    "    probability = pred_dict['probabilities'][class_id]\n",
    "\n",
    "    print(template.format(glovedata.GESTURES[class_id],\n",
    "                          100 * probability, expec))"
   ]
  },
  {
   "cell_type": "code",
   "execution_count": null,
   "metadata": {
    "collapsed": true
   },
   "outputs": [],
   "source": [
    "export_dir = classifier.export_savedmodel(\n",
    "    export_dir_base=\"model_export\",\n",
    "    serving_input_receiver_fn=serving_input_receiver_fn)\n",
    "print('Exported to:', export_dir)"
   ]
  },
  {
   "cell_type": "code",
   "execution_count": null,
   "metadata": {
    "collapsed": true
   },
   "outputs": [],
   "source": []
  },
  {
   "cell_type": "code",
   "execution_count": null,
   "metadata": {
    "collapsed": true
   },
   "outputs": [],
   "source": []
  }
 ],
 "metadata": {
  "anaconda-cloud": {},
  "kernelspec": {
   "display_name": "Python [conda root]",
   "language": "python",
   "name": "conda-root-py"
  },
  "language_info": {
   "codemirror_mode": {
    "name": "ipython",
    "version": 3
   },
   "file_extension": ".py",
   "mimetype": "text/x-python",
   "name": "python",
   "nbconvert_exporter": "python",
   "pygments_lexer": "ipython3",
   "version": "3.5.5"
  }
 },
 "nbformat": 4,
 "nbformat_minor": 1
}
